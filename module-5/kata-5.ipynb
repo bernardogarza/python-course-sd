{
 "cells": [
  {
   "cell_type": "markdown",
   "id": "8b30c245",
   "metadata": {},
   "source": [
    "# Kata 5"
   ]
  },
  {
   "cell_type": "markdown",
   "id": "dc9a1e6e",
   "metadata": {},
   "source": [
    "## Exercise 1"
   ]
  },
  {
   "cell_type": "code",
   "execution_count": 1,
   "id": "ab1c679c",
   "metadata": {},
   "outputs": [],
   "source": [
    "planet1 = 149597870\n",
    "planet2 = 778547200\n",
    "distance = planet2-planet1"
   ]
  },
  {
   "cell_type": "code",
   "execution_count": 2,
   "id": "6c61d74b",
   "metadata": {},
   "outputs": [
    {
     "name": "stdout",
     "output_type": "stream",
     "text": [
      "628949330\n"
     ]
    }
   ],
   "source": [
    "print(distance)"
   ]
  },
  {
   "cell_type": "code",
   "execution_count": 3,
   "id": "75d2adef",
   "metadata": {},
   "outputs": [
    {
     "name": "stdout",
     "output_type": "stream",
     "text": [
      "390577533.93\n"
     ]
    }
   ],
   "source": [
    "print(distance*0.621)"
   ]
  },
  {
   "cell_type": "markdown",
   "id": "f72e30c0",
   "metadata": {},
   "source": [
    "## Exercise 2"
   ]
  },
  {
   "cell_type": "code",
   "execution_count": 4,
   "id": "8a07ecc8",
   "metadata": {},
   "outputs": [
    {
     "name": "stdout",
     "output_type": "stream",
     "text": [
      "Distance to the sun in Km1200\n",
      "Distanceh to the sun in KM1233003\n"
     ]
    }
   ],
   "source": [
    "planet1 = input('Distance to the sun in Km')\n",
    "planet2 = input('Distanceh to the sun in KM')"
   ]
  },
  {
   "cell_type": "code",
   "execution_count": 7,
   "id": "785bea2b",
   "metadata": {},
   "outputs": [
    {
     "name": "stdout",
     "output_type": "stream",
     "text": [
      "1231803\n",
      "764949.663\n"
     ]
    }
   ],
   "source": [
    "distance_km=int(planet1)- int(planet2)\n",
    "print(abs(distance_km))\n",
    "\n",
    "distance_mi = distance_km *0.621\n",
    "print(abs(distance_mi))\n"
   ]
  }
 ],
 "metadata": {
  "kernelspec": {
   "display_name": "Python 3",
   "language": "python",
   "name": "python3"
  },
  "language_info": {
   "codemirror_mode": {
    "name": "ipython",
    "version": 3
   },
   "file_extension": ".py",
   "mimetype": "text/x-python",
   "name": "python",
   "nbconvert_exporter": "python",
   "pygments_lexer": "ipython3",
   "version": "3.6.15"
  }
 },
 "nbformat": 4,
 "nbformat_minor": 5
}

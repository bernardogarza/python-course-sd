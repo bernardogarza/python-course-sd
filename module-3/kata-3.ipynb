{
 "cells": [
  {
   "cell_type": "markdown",
   "metadata": {},
   "source": [
    "# Module 3"
   ]
  },
  {
   "cell_type": "code",
   "execution_count": 3,
   "metadata": {},
   "outputs": [
    {
     "name": "stdout",
     "output_type": "stream",
     "text": [
      "Warning, the asteroid is traveling at 49 km/s\n"
     ]
    }
   ],
   "source": [
    "asteroid_speed = 49\n",
    "if asteroid_speed > 25:\n",
    "  print(f\"Warning, the asteroid is traveling at {asteroid_speed} km/s\")\n",
    "else:\n",
    "  print(\"Everything is OK\")"
   ]
  },
  {
   "cell_type": "code",
   "execution_count": 6,
   "metadata": {},
   "outputs": [
    {
     "name": "stdout",
     "output_type": "stream",
     "text": [
      "Nothing to see here\n"
     ]
    }
   ],
   "source": [
    "asteroid_speed = 19\n",
    "if asteroid_speed >= 20:\n",
    "  print(\"Look for the asteroid\")\n",
    "else:\n",
    "  print(\"Nothing to see here\")\n"
   ]
  },
  {
   "cell_type": "code",
   "execution_count": 7,
   "metadata": {},
   "outputs": [
    {
     "name": "stdout",
     "output_type": "stream",
     "text": [
      "You might die\n"
     ]
    }
   ],
   "source": [
    "biggest_dimension = 40\n",
    "asteroid_speed = 25\n",
    "if (biggest_dimension > 25 and biggest_dimension < 1000) or asteroid_speed > 25:\n",
    "  print(\"You might die\")\n",
    "elif asteroid_speed > 20:\n",
    "  print(\"Look for an asteroid bleam\")\n",
    "else: \n",
    "  print(\"Nothing to see here\")"
   ]
  }
 ],
 "metadata": {
  "interpreter": {
   "hash": "916dbcbb3f70747c44a77c7bcd40155683ae19c65e1c03b4aa3499c5328201f1"
  },
  "kernelspec": {
   "display_name": "Python 3.8.10 64-bit",
   "language": "python",
   "name": "python3"
  },
  "language_info": {
   "codemirror_mode": {
    "name": "ipython",
    "version": 3
   },
   "file_extension": ".py",
   "mimetype": "text/x-python",
   "name": "python",
   "nbconvert_exporter": "python",
   "pygments_lexer": "ipython3",
   "version": "3.8.10"
  },
  "orig_nbformat": 4
 },
 "nbformat": 4,
 "nbformat_minor": 2
}
